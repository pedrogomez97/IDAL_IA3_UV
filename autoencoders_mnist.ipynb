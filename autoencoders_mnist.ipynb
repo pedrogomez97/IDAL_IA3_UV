{
  "nbformat": 4,
  "nbformat_minor": 0,
  "metadata": {
    "accelerator": "GPU",
    "colab": {
      "name": "autoencoders_mnist.ipynb",
      "provenance": [],
      "collapsed_sections": [],
      "include_colab_link": true
    },
    "kernelspec": {
      "display_name": "Python 3",
      "language": "python",
      "name": "python3"
    },
    "language_info": {
      "codemirror_mode": {
        "name": "ipython",
        "version": 3
      },
      "file_extension": ".py",
      "mimetype": "text/x-python",
      "name": "python",
      "nbconvert_exporter": "python",
      "pygments_lexer": "ipython3",
      "version": "3.7.6"
    }
  },
  "cells": [
    {
      "cell_type": "markdown",
      "metadata": {
        "id": "view-in-github",
        "colab_type": "text"
      },
      "source": [
        "<a href=\"https://colab.research.google.com/github/pedrogomez97/IDAL_IA3_UV/blob/main/autoencoders_mnist.ipynb\" target=\"_parent\"><img src=\"https://colab.research.google.com/assets/colab-badge.svg\" alt=\"Open In Colab\"/></a>"
      ]
    },
    {
      "cell_type": "markdown",
      "metadata": {
        "id": "ZoEFSXNDN4ju"
      },
      "source": [
        "# Entrenamiento de Autoencoders con datos de dígitos (MNIST)"
      ]
    },
    {
      "cell_type": "code",
      "metadata": {
        "id": "ZKwAmM2mNgEF"
      },
      "source": [
        "import numpy as np\n",
        "import tensorflow as tf\n",
        "from tensorflow.keras.layers import Dense, Input, Lambda\n",
        "import matplotlib.pyplot as plt\n",
        "tf.random.set_seed(42)"
      ],
      "execution_count": 2,
      "outputs": []
    },
    {
      "cell_type": "markdown",
      "metadata": {
        "id": "XssZbuDSOEI1"
      },
      "source": [
        "## Carga y procesamiento de los datos\n"
      ]
    },
    {
      "cell_type": "code",
      "metadata": {
        "id": "V0fBxO1COFIl",
        "outputId": "46edf9b9-a032-4377-bfa4-04a5e14009dd",
        "colab": {
          "base_uri": "https://localhost:8080/"
        }
      },
      "source": [
        "# Carga\n",
        "(X_train, y_train), (X_test, _) = tf.keras.datasets.mnist.load_data()\n",
        "print(' -Entradas Entrenamiento:', X_train.shape)\n",
        "print(' -Entradas Test:', X_test.shape)\n",
        "\n",
        "# Normalización\n",
        "X_train = X_train.astype('float32') / 255\n",
        "X_test = X_test.astype('float32') / 255\n",
        "\n",
        "print('Cambio de dimensiones para ajustar a la entrada de un Perceptrón:')\n",
        "x_shape = X_train.shape\n",
        "X_train = X_train.reshape(x_shape[0], x_shape[1]*x_shape[2])\n",
        "X_test = X_test.reshape(len(X_test), x_shape[1]*x_shape[2])\n",
        "print(' -Entradas Entrenamiento:', X_train.shape)\n",
        "print(' -Entradas Test:', X_test.shape)"
      ],
      "execution_count": 3,
      "outputs": [
        {
          "output_type": "stream",
          "text": [
            "Downloading data from https://storage.googleapis.com/tensorflow/tf-keras-datasets/mnist.npz\n",
            "11493376/11490434 [==============================] - 0s 0us/step\n",
            " -Entradas Entrenamiento: (60000, 28, 28)\n",
            " -Entradas Test: (10000, 28, 28)\n",
            "Cambio de dimensiones para ajustar a la entrada de un Perceptrón:\n",
            " -Entradas Entrenamiento: (60000, 784)\n",
            " -Entradas Test: (10000, 784)\n"
          ],
          "name": "stdout"
        }
      ]
    },
    {
      "cell_type": "markdown",
      "metadata": {
        "id": "N9l_RuFtOc9n"
      },
      "source": [
        "## Autoencoder profundo\n",
        "### Creación del autoencoder\n",
        "Vamos a crear un autoencoder que codifique y decodifique la entrada de 728 píxeles en la siguiente secuencia de dimensiones:\n",
        "\n",
        "784 → 128 → 64 → 32 → 64 → 128 → 784"
      ]
    },
    {
      "cell_type": "code",
      "metadata": {
        "id": "qi1nIAg7Oafu",
        "outputId": "2383a7aa-0305-43f7-df18-ea4919e81b94",
        "colab": {
          "base_uri": "https://localhost:8080/"
        }
      },
      "source": [
        "# Tamaño de nuestra representación codificada\n",
        "encoding_dim = 32  # Factor de compresión = 24.5 (dado que la entrada es de tamaño 784)\n",
        "\n",
        "# Definimos las capas para la entrada, el encoder y el decoder:\n",
        "# Capa de entrada\n",
        "input_img = Input(shape=(784,), name='Input')\n",
        "\n",
        "# Capas del encoder\n",
        "encoder1 = Dense(128, activation='relu', name='Encoder1')\n",
        "encoder2 = Dense(64, activation='relu', name='Encoder2')\n",
        "encoder3 = Dense(encoding_dim, activation='relu', name='Encoder3')\n",
        "\n",
        "# Capas del decoder\n",
        "decoder1 = Dense(64, activation='relu', name='Decoder1')\n",
        "decoder2 = Dense(128, activation='relu', name='Decoder2')\n",
        "decoder3 = Dense(784, activation='sigmoid', name='Decoder3')\n",
        "\n",
        "#       Autoencoder\n",
        "# --------------------------\n",
        "# \"encoded\" es la representación codificada de la entrada (cada vez más comprimida)\n",
        "encoded = encoder1(input_img)\n",
        "encoded = encoder2(encoded)\n",
        "encoded = encoder3(encoded)\n",
        "\n",
        "# \"decoded\" es la reconstrución de la entrada a partir de la entrada codificada\n",
        "decoded = decoder1(encoded)\n",
        "decoded = decoder2(decoded)\n",
        "decoded = decoder3(decoded)\n",
        "\n",
        "# Modelo que reconstruye una entrada\n",
        "autoencoder = tf.keras.Model(input_img, decoded)\n",
        "\n",
        "# Visualizar arquitectura y dimensiones\n",
        "print(f\"{'*'*65}\\n\\t\\t\\tAutoencoder\\n{'*'*65}\")\n",
        "autoencoder.summary()"
      ],
      "execution_count": 5,
      "outputs": [
        {
          "output_type": "stream",
          "text": [
            "*****************************************************************\n",
            "\t\t\tAutoencoder\n",
            "*****************************************************************\n",
            "Model: \"functional_1\"\n",
            "_________________________________________________________________\n",
            "Layer (type)                 Output Shape              Param #   \n",
            "=================================================================\n",
            "Input (InputLayer)           [(None, 784)]             0         \n",
            "_________________________________________________________________\n",
            "Encoder1 (Dense)             (None, 128)               100480    \n",
            "_________________________________________________________________\n",
            "Encoder2 (Dense)             (None, 64)                8256      \n",
            "_________________________________________________________________\n",
            "Encoder3 (Dense)             (None, 32)                2080      \n",
            "_________________________________________________________________\n",
            "Decoder1 (Dense)             (None, 64)                2112      \n",
            "_________________________________________________________________\n",
            "Decoder2 (Dense)             (None, 128)               8320      \n",
            "_________________________________________________________________\n",
            "Decoder3 (Dense)             (None, 784)               101136    \n",
            "=================================================================\n",
            "Total params: 222,384\n",
            "Trainable params: 222,384\n",
            "Non-trainable params: 0\n",
            "_________________________________________________________________\n"
          ],
          "name": "stdout"
        }
      ]
    },
    {
      "cell_type": "markdown",
      "metadata": {
        "id": "tIRkVdivQ8qL"
      },
      "source": [
        "### Entrenamiento"
      ]
    },
    {
      "cell_type": "code",
      "metadata": {
        "id": "nblNVZF3Q8Cl",
        "outputId": "c2dcffb5-1f0d-4f5e-fa3c-7c336b67f69e",
        "colab": {
          "base_uri": "https://localhost:8080/"
        }
      },
      "source": [
        "autoencoder.compile(optimizer='adam', loss='binary_crossentropy')\n",
        "hist= autoencoder.fit(X_train, \n",
        "                      X_train,\n",
        "                      epochs=50,\n",
        "                      batch_size=256,\n",
        "                      shuffle=True,\n",
        "                      validation_data=(X_test,X_test ))"
      ],
      "execution_count": 8,
      "outputs": [
        {
          "output_type": "stream",
          "text": [
            "Epoch 1/50\n",
            "235/235 [==============================] - 1s 4ms/step - loss: 0.2454 - val_loss: 0.1664\n",
            "Epoch 2/50\n",
            "235/235 [==============================] - 1s 3ms/step - loss: 0.1488 - val_loss: 0.1340\n",
            "Epoch 3/50\n",
            "235/235 [==============================] - 1s 3ms/step - loss: 0.1284 - val_loss: 0.1214\n",
            "Epoch 4/50\n",
            "235/235 [==============================] - 1s 3ms/step - loss: 0.1194 - val_loss: 0.1157\n",
            "Epoch 5/50\n",
            "235/235 [==============================] - 1s 3ms/step - loss: 0.1148 - val_loss: 0.1114\n",
            "Epoch 6/50\n",
            "235/235 [==============================] - 1s 3ms/step - loss: 0.1112 - val_loss: 0.1081\n",
            "Epoch 7/50\n",
            "235/235 [==============================] - 1s 3ms/step - loss: 0.1082 - val_loss: 0.1058\n",
            "Epoch 8/50\n",
            "235/235 [==============================] - 1s 3ms/step - loss: 0.1054 - val_loss: 0.1028\n",
            "Epoch 9/50\n",
            "235/235 [==============================] - 1s 3ms/step - loss: 0.1030 - val_loss: 0.1009\n",
            "Epoch 10/50\n",
            "235/235 [==============================] - 1s 3ms/step - loss: 0.1011 - val_loss: 0.0994\n",
            "Epoch 11/50\n",
            "235/235 [==============================] - 1s 3ms/step - loss: 0.0997 - val_loss: 0.0980\n",
            "Epoch 12/50\n",
            "235/235 [==============================] - 1s 3ms/step - loss: 0.0985 - val_loss: 0.0970\n",
            "Epoch 13/50\n",
            "235/235 [==============================] - 1s 3ms/step - loss: 0.0975 - val_loss: 0.0966\n",
            "Epoch 14/50\n",
            "235/235 [==============================] - 1s 3ms/step - loss: 0.0966 - val_loss: 0.0950\n",
            "Epoch 15/50\n",
            "235/235 [==============================] - 1s 3ms/step - loss: 0.0956 - val_loss: 0.0945\n",
            "Epoch 16/50\n",
            "235/235 [==============================] - 1s 3ms/step - loss: 0.0947 - val_loss: 0.0937\n",
            "Epoch 17/50\n",
            "235/235 [==============================] - 1s 3ms/step - loss: 0.0938 - val_loss: 0.0926\n",
            "Epoch 18/50\n",
            "235/235 [==============================] - 1s 3ms/step - loss: 0.0931 - val_loss: 0.0921\n",
            "Epoch 19/50\n",
            "235/235 [==============================] - 1s 3ms/step - loss: 0.0924 - val_loss: 0.0915\n",
            "Epoch 20/50\n",
            "235/235 [==============================] - 1s 3ms/step - loss: 0.0918 - val_loss: 0.0908\n",
            "Epoch 21/50\n",
            "235/235 [==============================] - 1s 3ms/step - loss: 0.0912 - val_loss: 0.0901\n",
            "Epoch 22/50\n",
            "235/235 [==============================] - 1s 3ms/step - loss: 0.0907 - val_loss: 0.0898\n",
            "Epoch 23/50\n",
            "235/235 [==============================] - 1s 3ms/step - loss: 0.0903 - val_loss: 0.0898\n",
            "Epoch 24/50\n",
            "235/235 [==============================] - 1s 4ms/step - loss: 0.0898 - val_loss: 0.0890\n",
            "Epoch 25/50\n",
            "235/235 [==============================] - 1s 3ms/step - loss: 0.0895 - val_loss: 0.0885\n",
            "Epoch 26/50\n",
            "235/235 [==============================] - 1s 3ms/step - loss: 0.0891 - val_loss: 0.0881\n",
            "Epoch 27/50\n",
            "235/235 [==============================] - 1s 3ms/step - loss: 0.0888 - val_loss: 0.0880\n",
            "Epoch 28/50\n",
            "235/235 [==============================] - 1s 3ms/step - loss: 0.0885 - val_loss: 0.0881\n",
            "Epoch 29/50\n",
            "235/235 [==============================] - 1s 3ms/step - loss: 0.0883 - val_loss: 0.0878\n",
            "Epoch 30/50\n",
            "235/235 [==============================] - 1s 3ms/step - loss: 0.0880 - val_loss: 0.0877\n",
            "Epoch 31/50\n",
            "235/235 [==============================] - 1s 3ms/step - loss: 0.0878 - val_loss: 0.0870\n",
            "Epoch 32/50\n",
            "235/235 [==============================] - 1s 3ms/step - loss: 0.0876 - val_loss: 0.0869\n",
            "Epoch 33/50\n",
            "235/235 [==============================] - 1s 3ms/step - loss: 0.0874 - val_loss: 0.0872\n",
            "Epoch 34/50\n",
            "235/235 [==============================] - 1s 3ms/step - loss: 0.0873 - val_loss: 0.0867\n",
            "Epoch 35/50\n",
            "235/235 [==============================] - 1s 3ms/step - loss: 0.0871 - val_loss: 0.0864\n",
            "Epoch 36/50\n",
            "235/235 [==============================] - 1s 3ms/step - loss: 0.0870 - val_loss: 0.0861\n",
            "Epoch 37/50\n",
            "235/235 [==============================] - 1s 3ms/step - loss: 0.0868 - val_loss: 0.0861\n",
            "Epoch 38/50\n",
            "235/235 [==============================] - 1s 3ms/step - loss: 0.0867 - val_loss: 0.0862\n",
            "Epoch 39/50\n",
            "235/235 [==============================] - 1s 3ms/step - loss: 0.0866 - val_loss: 0.0861\n",
            "Epoch 40/50\n",
            "235/235 [==============================] - 1s 3ms/step - loss: 0.0864 - val_loss: 0.0858\n",
            "Epoch 41/50\n",
            "235/235 [==============================] - 1s 3ms/step - loss: 0.0863 - val_loss: 0.0858\n",
            "Epoch 42/50\n",
            "235/235 [==============================] - 1s 3ms/step - loss: 0.0862 - val_loss: 0.0858\n",
            "Epoch 43/50\n",
            "235/235 [==============================] - 1s 3ms/step - loss: 0.0861 - val_loss: 0.0863\n",
            "Epoch 44/50\n",
            "235/235 [==============================] - 1s 3ms/step - loss: 0.0859 - val_loss: 0.0854\n",
            "Epoch 45/50\n",
            "235/235 [==============================] - 1s 3ms/step - loss: 0.0858 - val_loss: 0.0854\n",
            "Epoch 46/50\n",
            "235/235 [==============================] - 1s 3ms/step - loss: 0.0857 - val_loss: 0.0853\n",
            "Epoch 47/50\n",
            "235/235 [==============================] - 1s 3ms/step - loss: 0.0856 - val_loss: 0.0851\n",
            "Epoch 48/50\n",
            "235/235 [==============================] - 1s 3ms/step - loss: 0.0855 - val_loss: 0.0849\n",
            "Epoch 49/50\n",
            "235/235 [==============================] - 1s 3ms/step - loss: 0.0854 - val_loss: 0.0850\n",
            "Epoch 50/50\n",
            "235/235 [==============================] - 1s 4ms/step - loss: 0.0853 - val_loss: 0.0850\n"
          ],
          "name": "stdout"
        }
      ]
    },
    {
      "cell_type": "markdown",
      "metadata": {
        "id": "Ud9za_Rx3Z2u"
      },
      "source": [
        "### Evaluación y visualización"
      ]
    },
    {
      "cell_type": "code",
      "metadata": {
        "id": "EmX4QIq59nKc",
        "outputId": "bb9180b5-1c6e-4e6e-8012-c27f43c4a9ed",
        "colab": {
          "base_uri": "https://localhost:8080/",
          "height": 281
        }
      },
      "source": [
        "plt.figure()\n",
        "plt.xlabel('Épocas')\n",
        "plt.ylabel('Error')\n",
        "plt.plot(hist.history['loss'])\n",
        "plt.plot(hist.history['val_loss'])\n",
        "plt.legend(['Entrenamiento', 'Validación']);"
      ],
      "execution_count": 9,
      "outputs": [
        {
          "output_type": "display_data",
          "data": {
            "image/png": "[encoded data removed]",
            "text/plain": [
              "<Figure size 432x288 with 1 Axes>"
            ]
          },
          "metadata": {
            "tags": [],
            "needs_background": "light"
          }
        }
      ]
    },
    {
      "cell_type": "code",
      "metadata": {
        "id": "4JAmGvpcs0_r",
        "outputId": "d59e6693-1dab-4275-c77c-64056ef7ced0",
        "colab": {
          "base_uri": "https://localhost:8080/",
          "height": 131
        }
      },
      "source": [
        "# Vamos a crear ahora por un lado un modelo para el encoder y otro para el decoder\n",
        "#          Encoder\n",
        "# ------------------------\n",
        "encoder = tf.keras.Model(, )\n",
        "\n",
        "# Visualizar arquitectura y dimensiones\n",
        "print(f\"\\n{'*'*65}\\n\\t\\t\\tEncoder\\n{'*'*65}\")\n",
        "encoder.summary()\n",
        "\n",
        "# Codificamos y decodificamos algunos dígitos de ejemplo (datos de test)\n",
        "# -----------------------\n",
        "encoded_imgs = . . .\n",
        "decoded_imgs = . . .\n",
        " \n",
        "n_images = 10 \n",
        "plt.figure(figsize=(30, 4))\n",
        "for i in range(n_images):\n",
        "    # Entrada (original)\n",
        "    plt.subplot(3, n_images, i + 1)\n",
        "    plt.imshow(X_test[i].reshape(28, 28), cmap='gray')\n",
        "    plt.title('Entrada')\n",
        "    plt.axis('off')\n",
        "\n",
        "    # Codificación\n",
        "    plt.subplot(3, n_images, i + 1 + n_images)\n",
        "    plt.imshow(encoded_imgs[i].reshape(1, encoding_dim), cmap='gray')\n",
        "    plt.axis('off')\n",
        "    plt.title('Entrada codificada')\n",
        "    \n",
        "    # Reconstrucción\n",
        "    plt.subplot(3, n_images, i + 1 + n_images + n_images)\n",
        "    plt.imshow(decoded_imgs[i].reshape(28, 28), cmap='gray')\n",
        "    plt.axis('off')\n",
        "    plt.title('Reconstrucción')\n",
        "\n"
      ],
      "execution_count": 10,
      "outputs": [
        {
          "output_type": "error",
          "ename": "SyntaxError",
          "evalue": "ignored",
          "traceback": [
            "\u001b[0;36m  File \u001b[0;32m\"<ipython-input-10-a2bc54e9249a>\"\u001b[0;36m, line \u001b[0;32m4\u001b[0m\n\u001b[0;31m    encoder = tf.keras.Model(, )\u001b[0m\n\u001b[0m                             ^\u001b[0m\n\u001b[0;31mSyntaxError\u001b[0m\u001b[0;31m:\u001b[0m invalid syntax\n"
          ]
        }
      ]
    },
    {
      "cell_type": "markdown",
      "metadata": {
        "id": "z_F7bIhs3fCN"
      },
      "source": [
        "## Aplicación: Eliminación de ruido\n",
        "Para obtener un modelo capaz de eliminar ruido de las imágenes de dígitos vamos a entrenar un autoencoder que mapee imágenes de dígitos con ruido (entrada) a imágenes de dígitos \"limpias\"."
      ]
    },
    {
      "cell_type": "code",
      "metadata": {
        "id": "G4ms-kNx3tZG",
        "outputId": "96546090-db12-40e2-f223-1ab104f1a28c",
        "colab": {
          "base_uri": "https://localhost:8080/",
          "height": 124
        }
      },
      "source": [
        "# Añadimos ruido gaussiano (distribución normal) a las imágenes.\n",
        "noise_factor = 0.5\n",
        "X_train_noisy = X_train + noise_factor * np.random.normal(loc=0.0, scale=1.0, size=X_train.shape) \n",
        "X_test_noisy = X_test + noise_factor * np.random.normal(loc=0.0, scale=1.0, size=X_test.shape) \n",
        "\n",
        "# Aseguramos que todos los pixeles queden en el rango [0, 1]\n",
        "X_train_noisy = np.clip(X_train_noisy, 0., 1.)\n",
        "X_test_noisy = np.clip(X_test_noisy, 0., 1.)\n",
        "\n",
        "# Dibujamos las imágenes con ruido\n",
        "n_images = 10\n",
        "plt.figure(figsize=(30, 3))\n",
        "for i in range(n_images):\n",
        "    plt.subplot(1, n_images, i+1)\n",
        "    plt.imshow(X_test_noisy[i].reshape(28, 28), cmap='gray')\n",
        "    plt.axis('off')"
      ],
      "execution_count": 11,
      "outputs": [
        {
          "output_type": "display_data",
          "data": {
            "image/png": "[encoded data removed]",
            "text/plain": [
              "<Figure size 2160x216 with 10 Axes>"
            ]
          },
          "metadata": {
            "tags": [],
            "needs_background": "light"
          }
        }
      ]
    },
    {
      "cell_type": "markdown",
      "metadata": {
        "id": "DP5x2WdhAZo7"
      },
      "source": [
        "### Creación del modelo y entrenamiento"
      ]
    },
    {
      "cell_type": "code",
      "metadata": {
        "id": "rnDxX8xYAY6d"
      },
      "source": [
        "# Creación del modelo\n",
        "encoding_dim = 32\n",
        "autoencoder = tf.keras.models.Sequential()\n",
        "# Capas de entrada\n",
        "input_img = Input(shape=784,), name= 'Input')\n",
        "#       .\n",
        "#       .\n",
        "\n",
        "# Entrenamiento\n",
        "autoencoder.compile(optimizer='adam', loss='')\n",
        "hist= autoencoder.fit(, \n",
        "                      ,\n",
        "                      epochs=50,\n",
        "                      batch_size=256,\n",
        "                      shuffle=True,\n",
        "                      validation_data=(, ))\n"
      ],
      "execution_count": null,
      "outputs": []
    },
    {
      "cell_type": "markdown",
      "metadata": {
        "id": "eJVpDdoJC27n"
      },
      "source": [
        "### Evaluación y visualización"
      ]
    },
    {
      "cell_type": "code",
      "metadata": {
        "id": "cr5V5UOgC-OV"
      },
      "source": [
        "plt.figure()\n",
        "plt.xlabel('Épocas')\n",
        "plt.ylabel('Error')\n",
        "plt.plot(hist.history['loss'])\n",
        "plt.plot(hist.history['val_loss'])\n",
        "plt.legend(['Entrenamiento', 'Validación'])\n",
        "\n",
        "predictions = autoencoder.predict(X_test)\n",
        "n_images = 10 \n",
        "plt.figure(figsize=(30, 8))\n",
        "for i in range(n_images):\n",
        "    # Entrada (original)\n",
        "    plt.subplot(3, n_images, i + 1)\n",
        "    plt.imshow(X_test_noisy[i].reshape(28, 28), cmap='gray')\n",
        "    plt.title('Entrada')\n",
        "    plt.axis('off')\n",
        "    \n",
        "    # Reconstrucción\n",
        "    plt.subplot(3, n_images, i + 1 + n_images)\n",
        "    plt.imshow(predictions[i].reshape(28, 28), cmap='gray')\n",
        "    plt.axis('off')\n",
        "    plt.title('Reconstrucción')"
      ],
      "execution_count": null,
      "outputs": []
    },
    {
      "cell_type": "markdown",
      "metadata": {
        "id": "F0igVc6GhgJF"
      },
      "source": [
        "## Autoencoder Variacional\n",
        "### Creación del Encoder"
      ]
    },
    {
      "cell_type": "code",
      "metadata": {
        "id": "o3MI8YrlBK_h"
      },
      "source": [
        "class Encoder(tf.keras.Model):\n",
        "  def __init__(self):\n",
        "    super(Encoder, self).__init__()\n",
        "\n",
        "    # Capas del encoder\n",
        "    #       .\n",
        "    #       .\n",
        "    #       .\n",
        "\n",
        "  def call(self, inputs, training=None, mask=None):\n",
        "    #       .\n",
        "    #       .\n",
        "    #       .\n",
        "    return y"
      ],
      "execution_count": null,
      "outputs": []
    },
    {
      "cell_type": "markdown",
      "metadata": {
        "id": "z3OWaMRyyfff"
      },
      "source": [
        "### Creación de la capa que representa la distribución normal"
      ]
    },
    {
      "cell_type": "code",
      "metadata": {
        "id": "9spiM1SnyrZH"
      },
      "source": [
        "class NormalDistribution(tf.keras.Model):\n",
        "  def __init__(self):\n",
        "    super(NormalDistribution, self).__init__()\n",
        "    \n",
        "    # Capas\n",
        "    #       .\n",
        "    #       .\n",
        "    #       .\n",
        "\n",
        "  def call(self, inputs, training=None, mask=None):\n",
        "    #       .\n",
        "    #       .\n",
        "    #       .\n",
        "    return z_mean, z_log_var"
      ],
      "execution_count": null,
      "outputs": []
    },
    {
      "cell_type": "markdown",
      "metadata": {
        "id": "aACxBKvohkXO"
      },
      "source": [
        "\n",
        "### Creación de la capa de muestreo"
      ]
    },
    {
      "cell_type": "code",
      "metadata": {
        "id": "3qtElIDFhpUr"
      },
      "source": [
        "class Reparametrize(tf.keras.layers.Layer):\n",
        "  \"\"\"\n",
        "  Usa (z_mu, z_log_var) para muestrear z (el vector que \n",
        "  representa el dígito codificado)\n",
        "  \"\"\"\n",
        "  def call(self, inputs):\n",
        "    z_mu, z_log_var = inputs\n",
        "    \n",
        "    # Extraemos dimensiones (del batch y del espacio codificado)\n",
        "    #       .\n",
        "    #       .\n",
        "    #       .\n",
        "    \n",
        "    # Muestreamos de una distribucion normal ϵ: con dimensiones (batch, dim_spacio_codificado)\n",
        "    #       .\n",
        "    #       .\n",
        "    #       .\n",
        "    \n",
        "    # Transformamos log(σ^2) en σ \n",
        "    #       .\n",
        "    #       .\n",
        "    #       .\n",
        "\n",
        "    # Truco de re-parametrización\n",
        "    #       .\n",
        "    #       .\n",
        "    #       .\n",
        "    \n",
        "    return reparametrization\n"
      ],
      "execution_count": null,
      "outputs": []
    },
    {
      "cell_type": "markdown",
      "metadata": {
        "id": "FL1FirsoCtKy"
      },
      "source": [
        "### Creación del Decoder"
      ]
    },
    {
      "cell_type": "code",
      "metadata": {
        "id": "L-iYljRwBnIz"
      },
      "source": [
        "class Decoder(tf.keras.Model):\n",
        "  def __init__(self):\n",
        "    super(Decoder, self).__init__()\n",
        "\n",
        "    # Capas del decoder\n",
        "    #       .\n",
        "    #       .\n",
        "    #       .\n",
        "\n",
        "  def call(self, inputs,  training=None, mask=None):\n",
        "    #       .\n",
        "    #       .\n",
        "    #       .\n",
        "    return y"
      ],
      "execution_count": null,
      "outputs": []
    },
    {
      "cell_type": "markdown",
      "metadata": {
        "id": "qKQzo-txsLoc"
      },
      "source": [
        "### Creación de la función de coste"
      ]
    },
    {
      "cell_type": "code",
      "metadata": {
        "id": "lLcf71NqsKra"
      },
      "source": [
        "class LossVAE(tf.keras.layers.Layer):\n",
        "  \"\"\"\n",
        "  Función de error custom: suma del término de reconstrucción y \n",
        "  el término de regularización KL divergence\n",
        "  \"\"\"\n",
        "  def call(self, inputs):\n",
        "    y_true, y_pred, z_mean, z_log_var = inputs\n",
        "    \n",
        "    # Error de reconstrucción (usa categorical_crossentroy)\n",
        "    #       .\n",
        "    #       .\n",
        "    #       .\n",
        "    \n",
        "    # Divergencia KL\n",
        "    #       .\n",
        "    #       .\n",
        "    #       .\n",
        "  \n",
        "    return reconstruction_loss, kl_loss"
      ],
      "execution_count": null,
      "outputs": []
    },
    {
      "cell_type": "markdown",
      "metadata": {
        "id": "wx9qBX37CzeY"
      },
      "source": [
        "### Creación del Autoencoder Variacional"
      ]
    },
    {
      "cell_type": "code",
      "metadata": {
        "id": "HIPYLV1uhmHj"
      },
      "source": [
        "class VAE(tf.keras.Model):\n",
        "    def __init__(self):\n",
        "      super(VAE, self).__init__()\n",
        "      # Capas del VAE\n",
        "      #       .\n",
        "      #       .\n",
        "      #       .\n",
        "\n",
        "    def call(self, inputs,  training=None, mask=None):\n",
        "      #       .\n",
        "      #       .\n",
        "      #       .\n",
        "      return (z_mean, z_log_var, z), decoded\n",
        "\n",
        "    def train_step(self, data):\n",
        "      with tf.GradientTape() as tape:\n",
        "        # Propagación hacia delante\n",
        "        #       .\n",
        "        #       .\n",
        "        #       .\n",
        "        total_loss = (784 * reconstruction_loss) + (2 * kl_loss)\n",
        "      \n",
        "      # Retro-propagación\n",
        "      grads = tape.gradient(total_loss, self.trainable_weights)\n",
        "      \n",
        "      # Actualización de los pesos\n",
        "      self.optimizer.apply_gradients(zip(grads, self.trainable_weights))\n",
        "      \n",
        "      return {\"reconstruction_loss\": reconstruction_loss,\n",
        "              \"kl_loss\": kl_loss,\n",
        "              \"total_loss\": total_loss}"
      ],
      "execution_count": null,
      "outputs": []
    },
    {
      "cell_type": "markdown",
      "metadata": {
        "id": "d4k9tjKAQ7wo"
      },
      "source": [
        "### Entrenamiento del Autoencoder Variacional"
      ]
    },
    {
      "cell_type": "code",
      "metadata": {
        "id": "oYCno6nA4vGU"
      },
      "source": [
        "vae = VAE()\n",
        "vae.compile(optimizer=tf.keras.optimizers.Adam())\n",
        "vae.fit(X_train, epochs=30, batch_size=128)"
      ],
      "execution_count": null,
      "outputs": []
    },
    {
      "cell_type": "markdown",
      "metadata": {
        "id": "uvUZD_JsRIE_"
      },
      "source": [
        "### Muestra de Dígitos Generados con el Autoencoder Varacional"
      ]
    },
    {
      "cell_type": "code",
      "metadata": {
        "id": "Jbk67dUWRo6v"
      },
      "source": [
        "def plot_latent(model, fig_size=15, scale=3.):\n",
        "    n = 30\n",
        "    digit_size = 28\n",
        "    figure = np.zeros((digit_size * n, digit_size * n))\n",
        "    # Creamos un grid 2D linealmente espaciado correspondiente a\n",
        "    # los dígitos en el espacio codificado\n",
        "    grid_x = np.linspace(-scale, scale, n)\n",
        "    grid_y = np.linspace(-scale, scale, n)[::-1]\n",
        "\n",
        "    for i, yi in enumerate(grid_y):\n",
        "        for j, xi in enumerate(grid_x):\n",
        "            z_sample = np.array([[xi, yi]])\n",
        "            # Para cada coordenada 2D del espacio codificado, \n",
        "            # usamos el decoder para reconstruir/generar una imagen nueva.\n",
        "            x_decoded = model.decoder(z_sample).numpy()\n",
        "            digit = x_decoded.reshape(digit_size, digit_size)\n",
        "            figure[i * digit_size : (i + 1) * digit_size,\n",
        "                   j * digit_size : (j + 1) * digit_size] = digit\n",
        "\n",
        "    plt.figure(figsize=(fig_size, fig_size))\n",
        "    start_range = digit_size // 2\n",
        "    end_range = n * digit_size + start_range + 1\n",
        "    pixel_range = np.arange(start_range, end_range, digit_size)\n",
        "    sample_range_x = np.round(grid_x, 1)\n",
        "    sample_range_y = np.round(grid_y, 1)\n",
        "    plt.xticks(pixel_range, sample_range_x)\n",
        "    plt.yticks(pixel_range, sample_range_y)\n",
        "    plt.xlabel(\"z[0]\")\n",
        "    plt.ylabel(\"z[1]\")\n",
        "    plt.imshow(figure, cmap=\"gray\")\n",
        "    plt.show()\n",
        "\n",
        "\n",
        "def plot_label_clusters(model, data, labels, fig_size=15, scale=3.):\n",
        "    # Dibujamos un plot 2D the los dígitos y sus clases en el espacio codificado\n",
        "    encoded = model.encoder(data)\n",
        "    z_mean, _ = model.normal_distribution(encoded)\n",
        "    plt.figure(figsize=(fig_size, fig_size))\n",
        "    plt.scatter(z_mean[:, 0], z_mean[:, 1], c=labels)\n",
        "    plt.colorbar()\n",
        "    plt.xlabel(\"z[0]\")\n",
        "    plt.ylabel(\"z[1]\")\n",
        "    plt.xlim((-scale, scale))\n",
        "    plt.ylim((-scale, scale)) \n",
        "    plt.show()"
      ],
      "execution_count": null,
      "outputs": []
    },
    {
      "cell_type": "code",
      "metadata": {
        "id": "zaGwFRoRY2vU"
      },
      "source": [
        "plot_latent(vae)"
      ],
      "execution_count": null,
      "outputs": []
    },
    {
      "cell_type": "code",
      "metadata": {
        "id": "EgOm9S0jk5S3"
      },
      "source": [
        "plot_label_clusters(vae, X_train, y_train)"
      ],
      "execution_count": null,
      "outputs": []
    }
  ]
}